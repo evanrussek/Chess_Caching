{
 "cells": [
  {
   "cell_type": "code",
   "execution_count": 1,
   "id": "0a0b36f1",
   "metadata": {},
   "outputs": [],
   "source": [
    "import matplotlib.pyplot as plt\n",
    "\n"
   ]
  },
  {
   "cell_type": "code",
   "execution_count": 8,
   "id": "2e512bb0",
   "metadata": {},
   "outputs": [
    {
     "ename": "AttributeError",
     "evalue": "module 'matplotlib.pyplot' has no attribute 'goto'",
     "output_type": "error",
     "traceback": [
      "\u001b[0;31m---------------------------------------------------------------------------\u001b[0m",
      "\u001b[0;31mAttributeError\u001b[0m                            Traceback (most recent call last)",
      "Input \u001b[0;32mIn [8]\u001b[0m, in \u001b[0;36m<cell line: 32>\u001b[0;34m()\u001b[0m\n\u001b[1;32m     30\u001b[0m \u001b[38;5;66;03m# example usage\u001b[39;00m\n\u001b[1;32m     31\u001b[0m root \u001b[38;5;241m=\u001b[39m Node(\u001b[38;5;241m1\u001b[39m, Node(\u001b[38;5;241m2\u001b[39m), Node(\u001b[38;5;241m3\u001b[39m))\n\u001b[0;32m---> 32\u001b[0m \u001b[43mdraw_binary_tree\u001b[49m\u001b[43m(\u001b[49m\u001b[43mroot\u001b[49m\u001b[43m)\u001b[49m\n",
      "Input \u001b[0;32mIn [8]\u001b[0m, in \u001b[0;36mdraw_binary_tree\u001b[0;34m(root)\u001b[0m\n\u001b[1;32m     24\u001b[0m plt\u001b[38;5;241m.\u001b[39mtitle(\u001b[38;5;124m'\u001b[39m\u001b[38;5;124mBinary Tree\u001b[39m\u001b[38;5;124m'\u001b[39m)\n\u001b[1;32m     25\u001b[0m height \u001b[38;5;241m=\u001b[39m height(root)\n\u001b[0;32m---> 26\u001b[0m \u001b[43mjumpto\u001b[49m\u001b[43m(\u001b[49m\u001b[38;5;241;43m0\u001b[39;49m\u001b[43m,\u001b[49m\u001b[43m \u001b[49m\u001b[38;5;241;43m30\u001b[39;49m\u001b[38;5;241;43m*\u001b[39;49m\u001b[43mheight\u001b[49m\u001b[43m)\u001b[49m\n\u001b[1;32m     27\u001b[0m draw(root, \u001b[38;5;241m0\u001b[39m, \u001b[38;5;241m30\u001b[39m\u001b[38;5;241m*\u001b[39mheight, \u001b[38;5;241m40\u001b[39m\u001b[38;5;241m*\u001b[39mheight)\n\u001b[1;32m     28\u001b[0m plt\u001b[38;5;241m.\u001b[39mshow()\n",
      "Input \u001b[0;32mIn [8]\u001b[0m, in \u001b[0;36mdraw_binary_tree.<locals>.jumpto\u001b[0;34m(x, y)\u001b[0m\n\u001b[1;32m     13\u001b[0m \u001b[38;5;28;01mdef\u001b[39;00m \u001b[38;5;21mjumpto\u001b[39m(x, y):\n\u001b[0;32m---> 14\u001b[0m     \u001b[43mplt\u001b[49m\u001b[38;5;241;43m.\u001b[39;49m\u001b[43mgoto\u001b[49m(x, y)\n",
      "\u001b[0;31mAttributeError\u001b[0m: module 'matplotlib.pyplot' has no attribute 'goto'"
     ]
    },
    {
     "data": {
      "image/png": "[encoded data removed]",
      "text/plain": [
       "<Figure size 640x480 with 1 Axes>"
      ]
     },
     "metadata": {},
     "output_type": "display_data"
    }
   ],
   "source": [
    "import matplotlib.pyplot as plt\n",
    "\n",
    "class Node:\n",
    "    def __init__(self, value, left=None, right=None):\n",
    "        self.value = value\n",
    "        self.left = left\n",
    "        self.right = right\n",
    "\n",
    "def draw_binary_tree(root):\n",
    "    def height(root):\n",
    "        return 1 + max(height(root.left), height(root.right)) if root else -1\n",
    "\n",
    "    def jumpto(x, y):\n",
    "        plt.goto(x, y)\n",
    "\n",
    "    def draw(node, x, y, dx):\n",
    "        if node:\n",
    "            plt.plot(x, y)\n",
    "            plt.circle(x, y, radius=20, fc='w')\n",
    "            plt.text(x, y+7, str(node.value), size=12)\n",
    "            draw(node.left, x-dx, y-60, dx/2)\n",
    "            draw(node.right, x+dx, y-60, dx/2)\n",
    "\n",
    "    plt.title('Binary Tree')\n",
    "    height = height(root)\n",
    "    jumpto(0, 30*height)\n",
    "    draw(root, 0, 30*height, 40*height)\n",
    "    plt.show()\n",
    "\n",
    "# example usage\n",
    "root = Node(1, Node(2), Node(3))\n",
    "draw_binary_tree(root)"
   ]
  },
  {
   "cell_type": "code",
   "execution_count": null,
   "id": "b15369e7",
   "metadata": {},
   "outputs": [],
   "source": []
  },
  {
   "cell_type": "code",
   "execution_count": null,
   "id": "591c56d9",
   "metadata": {},
   "outputs": [],
   "source": []
  }
 ],
 "metadata": {
  "kernelspec": {
   "display_name": "Python 3 (ipykernel)",
   "language": "python",
   "name": "python3"
  },
  "language_info": {
   "codemirror_mode": {
    "name": "ipython",
    "version": 3
   },
   "file_extension": ".py",
   "mimetype": "text/x-python",
   "name": "python",
   "nbconvert_exporter": "python",
   "pygments_lexer": "ipython3",
   "version": "3.9.13"
  }
 },
 "nbformat": 4,
 "nbformat_minor": 5
}
